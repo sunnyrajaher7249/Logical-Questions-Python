{
 "cells": [
  {
   "cell_type": "markdown",
   "id": "8ecbaa98",
   "metadata": {},
   "source": [
    "###  print duplicate values"
   ]
  },
  {
   "cell_type": "code",
   "execution_count": 15,
   "id": "2bf53695",
   "metadata": {},
   "outputs": [
    {
     "name": "stdout",
     "output_type": "stream",
     "text": [
      "[10, 30]\n"
     ]
    }
   ],
   "source": [
    "# Print duplicate items using builtin function\n",
    "\n",
    "lst = ['hello', 10,20,30,40,10,30,50,]\n",
    "\n",
    "d=[]\n",
    "\n",
    "for i in lst:\n",
    "    if lst.count(i)>1 and i not in d:\n",
    "        d.append(i)\n",
    "print(d)"
   ]
  },
  {
   "cell_type": "code",
   "execution_count": 3,
   "id": "56c1df52",
   "metadata": {},
   "outputs": [
    {
     "name": "stdout",
     "output_type": "stream",
     "text": [
      "{1, 4, 5}\n"
     ]
    }
   ],
   "source": [
    "lst = [1,2,4,5,1,6,7,8,9,1,5,4]\n",
    "\n",
    "print(set([ x for x in lst if lst.count(x)>1]))"
   ]
  },
  {
   "cell_type": "code",
   "execution_count": 11,
   "id": "14b62e03",
   "metadata": {},
   "outputs": [
    {
     "name": "stdout",
     "output_type": "stream",
     "text": [
      "[10, 30]\n"
     ]
    }
   ],
   "source": [
    "#With out using built in function\n",
    "\n",
    "lst = ['hello', 10,20,30,40,10,30,50,]\n",
    "\n",
    "d = []\n",
    "\n",
    "for i in range(len(lst)):\n",
    "    for j in range(i+1, len(lst)):\n",
    "        if lst[i]==lst[j] and lst[i] not in d:\n",
    "            d.append(lst[i])\n",
    "\n",
    "print(d)"
   ]
  },
  {
   "cell_type": "code",
   "execution_count": 16,
   "id": "26aa2c18",
   "metadata": {},
   "outputs": [
    {
     "name": "stdout",
     "output_type": "stream",
     "text": [
      "[45, 74, 65]\n"
     ]
    }
   ],
   "source": [
    "sunny = ['sunny',45,74,85,65,74,65,10,24,45]\n",
    "\n",
    "s = []\n",
    "\n",
    "for i in sunny:\n",
    "    if sunny.count(i)>1 and i not in s:\n",
    "        s.append(i)\n",
    "        \n",
    "print(s)"
   ]
  },
  {
   "cell_type": "code",
   "execution_count": 50,
   "id": "d3f0b6b0",
   "metadata": {},
   "outputs": [
    {
     "name": "stdout",
     "output_type": "stream",
     "text": [
      "Enter string : a2b2c2\n",
      "aabbcc\n"
     ]
    }
   ],
   "source": [
    "# \"a2b2c2\"------> aabbcc \n",
    "\n",
    "str1 = input('Enter string : ')\n",
    "\n",
    "output= \"\"\n",
    "\n",
    "for char in str1:\n",
    "    if char.isalpha():  #if char is alphabet then store in var\n",
    "        var = char      # else convert str number in to int\n",
    "    else:\n",
    "        num = int(char)\n",
    "        output= output+(var*num)\n",
    "        \n",
    "print(output)"
   ]
  },
  {
   "cell_type": "markdown",
   "id": "bddfc850",
   "metadata": {},
   "source": [
    "###  Write a python program to print prime numbers  between 100 to 200 "
   ]
  },
  {
   "cell_type": "code",
   "execution_count": 31,
   "id": "ad00d0cc",
   "metadata": {},
   "outputs": [
    {
     "name": "stdout",
     "output_type": "stream",
     "text": [
      "101\n",
      "103\n",
      "107\n",
      "109\n",
      "113\n",
      "127\n",
      "131\n",
      "137\n",
      "139\n",
      "149\n",
      "151\n",
      "157\n",
      "163\n",
      "167\n",
      "173\n",
      "179\n",
      "181\n",
      "191\n",
      "193\n",
      "197\n",
      "199\n"
     ]
    }
   ],
   "source": [
    "for num in range(100,200):\n",
    "    if all(num%i!=0 for i in range(2,num)):  # reminder is not zero, for i in range starting from 2 till num\n",
    "        print(num)                           # Starting from 2 bcz 1 is prime no"
   ]
  },
  {
   "cell_type": "markdown",
   "id": "b90b7e30",
   "metadata": {},
   "source": [
    "###  Write a sort function to sort the element in a list"
   ]
  },
  {
   "cell_type": "code",
   "execution_count": 37,
   "id": "a36e1091",
   "metadata": {},
   "outputs": [
    {
     "name": "stdout",
     "output_type": "stream",
     "text": [
      "[10, 15, 20, 25, 30, 40, 50, 60, 65, 70]\n"
     ]
    }
   ],
   "source": [
    "num = [10,15,20,25,30,40,50,60,65,70]\n",
    "\n",
    "num.sort \n",
    "\n",
    "print(num)"
   ]
  },
  {
   "cell_type": "code",
   "execution_count": 2,
   "id": "eb9158d2",
   "metadata": {},
   "outputs": [
    {
     "data": {
      "text/plain": [
       "[200, 100, 90, 80, 70, 60, 40, 30, 20, 10]"
      ]
     },
     "execution_count": 2,
     "metadata": {},
     "output_type": "execute_result"
    }
   ],
   "source": [
    "numbers = [10,20,30,40,200,60,70,80,90,100]\n",
    "\n",
    "numbers.sort(reverse= True)  # If reverse is put it as true then output is in ascending\n",
    "                            # If reverse is put false then its showing in descending\n",
    "numbers"
   ]
  },
  {
   "cell_type": "markdown",
   "id": "fdc103db",
   "metadata": {},
   "source": [
    "###  Not using sort function"
   ]
  },
  {
   "cell_type": "code",
   "execution_count": 3,
   "id": "5298ddca",
   "metadata": {},
   "outputs": [
    {
     "name": "stdout",
     "output_type": "stream",
     "text": [
      "[30, 40, 60, 70, 80, 90, 100, 200, 450, 500]\n"
     ]
    }
   ],
   "source": [
    "lst = [500, 200, 30, 40, 450, 60, 70, 80, 90, 100]\n",
    "output = []\n",
    "\n",
    "while lst:\n",
    "    minimum = lst[0]\n",
    "    for x in lst:\n",
    "        if x < minimum:\n",
    "            minimum = x\n",
    "    output.append(minimum)\n",
    "    lst.remove(minimum)\n",
    "\n",
    "print(output)\n"
   ]
  },
  {
   "cell_type": "markdown",
   "id": "e802fd6b",
   "metadata": {},
   "source": [
    "# Ascending (With out using Built in function)"
   ]
  },
  {
   "cell_type": "code",
   "execution_count": 7,
   "id": "ed007d56",
   "metadata": {},
   "outputs": [
    {
     "data": {
      "text/plain": [
       "[10, 10, 12, 12, 20, 32, 41, 41, 52]"
      ]
     },
     "execution_count": 7,
     "metadata": {},
     "output_type": "execute_result"
    }
   ],
   "source": [
    "lst = [10,20,41,52,12,41,32,10,12]\n",
    "\n",
    "for i in range(len(lst)):\n",
    "    for j in range(i+1, len(lst)):\n",
    "        if lst[i] > lst[j]:\n",
    "            lst[i], lst[j] = lst[j], lst[i]\n",
    "            \n",
    "#print(\"Ascending order:\", lst)\n",
    "lst"
   ]
  },
  {
   "cell_type": "markdown",
   "id": "decacd78",
   "metadata": {},
   "source": [
    "# Descending Order"
   ]
  },
  {
   "cell_type": "code",
   "execution_count": 8,
   "id": "47d5e02b",
   "metadata": {},
   "outputs": [
    {
     "data": {
      "text/plain": [
       "[52, 41, 41, 32, 20, 12, 12, 10, 10]"
      ]
     },
     "execution_count": 8,
     "metadata": {},
     "output_type": "execute_result"
    }
   ],
   "source": [
    "lst = [10,20,41,52,12,41,32,10,12]\n",
    "\n",
    "for i in range(len(lst)):\n",
    "    for j in range(i+1, len(lst)):\n",
    "        if lst[i] < lst[j]:\n",
    "            lst[i], lst[j] = lst[j],lst[i]\n",
    "\n",
    "lst"
   ]
  },
  {
   "cell_type": "markdown",
   "id": "157f9b9f",
   "metadata": {},
   "source": [
    "###  Sort in descending order "
   ]
  },
  {
   "cell_type": "code",
   "execution_count": 1,
   "id": "65db985c",
   "metadata": {},
   "outputs": [
    {
     "data": {
      "text/plain": [
       "[100, 90, 80, 70, 60, 50, 40, 30, 20, 10]"
      ]
     },
     "execution_count": 1,
     "metadata": {},
     "output_type": "execute_result"
    }
   ],
   "source": [
    "lst = [10, 20, 30, 40, 50, 60, 70, 80, 90, 100]\n",
    "\n",
    "def sunny(s):\n",
    "    return s[::-1]\n",
    "\n",
    "sunny(lst)"
   ]
  },
  {
   "cell_type": "code",
   "execution_count": 45,
   "id": "f6adff73",
   "metadata": {},
   "outputs": [
    {
     "name": "stdout",
     "output_type": "stream",
     "text": [
      "[5, 4, 3, 2, 1]\n"
     ]
    }
   ],
   "source": [
    "lst = [1, 2, 3, 4, 5]\n",
    "reversed_list = lst[::-1]\n",
    "print(reversed_list)  # Output: [5, 4, 3, 2, 1]\n"
   ]
  },
  {
   "cell_type": "markdown",
   "id": "b1306136",
   "metadata": {},
   "source": [
    "- The : operator is used for slicing, and the first : indicates that we want to select all the elements from the sequence.\n",
    "\n",
    "- The second : operator is the step size, and by specifying -1 as the step size, we are telling Python to select the elements in reverse order."
   ]
  },
  {
   "cell_type": "markdown",
   "id": "f7e2b3ba",
   "metadata": {},
   "source": [
    "###  Write a program to print no of words in a given sentense"
   ]
  },
  {
   "cell_type": "code",
   "execution_count": 5,
   "id": "3e41657a",
   "metadata": {},
   "outputs": [
    {
     "name": "stdout",
     "output_type": "stream",
     "text": [
      "4\n"
     ]
    }
   ],
   "source": [
    "s = 'My Name Is Sunnyraj'\n",
    "\n",
    "print(len(s.split()))"
   ]
  }
 ],
 "metadata": {
  "kernelspec": {
   "display_name": "Python 3 (ipykernel)",
   "language": "python",
   "name": "python3"
  },
  "language_info": {
   "codemirror_mode": {
    "name": "ipython",
    "version": 3
   },
   "file_extension": ".py",
   "mimetype": "text/x-python",
   "name": "python",
   "nbconvert_exporter": "python",
   "pygments_lexer": "ipython3",
   "version": "3.9.13"
  }
 },
 "nbformat": 4,
 "nbformat_minor": 5
}
