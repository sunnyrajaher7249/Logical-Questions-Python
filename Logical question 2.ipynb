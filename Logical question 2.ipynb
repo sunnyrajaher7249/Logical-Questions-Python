{
 "cells": [
  {
   "cell_type": "markdown",
   "id": "1f357f05",
   "metadata": {},
   "source": [
    "# write a python program which tell whether the person is eligible for  vote or not\n",
    "\n"
   ]
  },
  {
   "cell_type": "code",
   "execution_count": 4,
   "id": "d69b79bf",
   "metadata": {},
   "outputs": [
    {
     "name": "stdout",
     "output_type": "stream",
     "text": [
      "Enter Your age14\n",
      "U r nor Eligible, need to wait for 4 more years\n"
     ]
    }
   ],
   "source": [
    "age = int(input('Enter Your age'))\n",
    "\n",
    "if age>=18:\n",
    "    print('Eligible for Vote')\n",
    "else:\n",
    "    print('U r nor Eligible, need to wait for', 18-age, 'more years')"
   ]
  },
  {
   "cell_type": "code",
   "execution_count": 6,
   "id": "7d9e4fbc",
   "metadata": {},
   "outputs": [
    {
     "name": "stdout",
     "output_type": "stream",
     "text": [
      "Enter no:45\n",
      "No is positive\n"
     ]
    }
   ],
   "source": [
    "num = int(input('Enter no:'))\n",
    "\n",
    "if num >0:\n",
    "    print('No is positive')\n",
    "elif num == 0:\n",
    "    print('No is zero')\n",
    "else:\n",
    "    print('No is negative')"
   ]
  },
  {
   "cell_type": "code",
   "execution_count": 11,
   "id": "04147488",
   "metadata": {},
   "outputs": [
    {
     "name": "stdout",
     "output_type": "stream",
     "text": [
      "Enter ur markks:95\n",
      "Distinction\n"
     ]
    }
   ],
   "source": [
    "marks = int(input('Enter ur markks:'))\n",
    "\n",
    "if marks >=85:\n",
    "    print('Distinction')\n",
    "elif (marks >60) & (marks <85):\n",
    "    print('First Class')\n",
    "elif (marks >=40) & (marks <60):\n",
    "    print('Second Class')\n",
    "else:\n",
    "    print('Fail')\n",
    "    "
   ]
  },
  {
   "cell_type": "markdown",
   "id": "aed513c9",
   "metadata": {},
   "source": [
    "####  Write a program which will print century if the player has made more than 100 runs, else it should write how many more runs is required for century"
   ]
  },
  {
   "cell_type": "code",
   "execution_count": 15,
   "id": "cd2e6f1a",
   "metadata": {},
   "outputs": [
    {
     "name": "stdout",
     "output_type": "stream",
     "text": [
      "Enter Runs :102\n",
      "Century is done\n"
     ]
    }
   ],
   "source": [
    "runs = int(input('Enter Runs :'))\n",
    "\n",
    "if runs >= 100:\n",
    "    print('Century is done')\n",
    "else:\n",
    "    print('Century is not done, need',100-runs, 'more runs')"
   ]
  },
  {
   "cell_type": "code",
   "execution_count": 16,
   "id": "3439592a",
   "metadata": {},
   "outputs": [],
   "source": [
    "def sunny():\n",
    "    print('Sunnyraj')"
   ]
  },
  {
   "cell_type": "code",
   "execution_count": 18,
   "id": "7e2d594d",
   "metadata": {},
   "outputs": [
    {
     "name": "stdout",
     "output_type": "stream",
     "text": [
      "Sunnyraj\n"
     ]
    }
   ],
   "source": [
    "sunny()"
   ]
  },
  {
   "cell_type": "markdown",
   "id": "f0622ec7",
   "metadata": {},
   "source": [
    "##  Write a python code which will returen a max number"
   ]
  },
  {
   "cell_type": "code",
   "execution_count": 19,
   "id": "e53ff2c3",
   "metadata": {},
   "outputs": [],
   "source": [
    "def multiply(x,y):\n",
    "    print(x*y)"
   ]
  },
  {
   "cell_type": "code",
   "execution_count": 20,
   "id": "e0542e76",
   "metadata": {},
   "outputs": [
    {
     "name": "stdout",
     "output_type": "stream",
     "text": [
      "20\n"
     ]
    }
   ],
   "source": [
    "multiply(4,5)"
   ]
  },
  {
   "cell_type": "code",
   "execution_count": 28,
   "id": "530c8320",
   "metadata": {},
   "outputs": [],
   "source": [
    "def maximum(p,q):\n",
    "    if p > q:\n",
    "        print(p)\n",
    "    else:\n",
    "        print(q)"
   ]
  },
  {
   "cell_type": "code",
   "execution_count": 30,
   "id": "b82ece22",
   "metadata": {},
   "outputs": [
    {
     "name": "stdout",
     "output_type": "stream",
     "text": [
      "45\n"
     ]
    }
   ],
   "source": [
    "maximum(10,45)"
   ]
  },
  {
   "cell_type": "code",
   "execution_count": 31,
   "id": "c70cb49d",
   "metadata": {},
   "outputs": [],
   "source": [
    "def sunny(*raj):\n",
    "    print(max(raj))"
   ]
  },
  {
   "cell_type": "code",
   "execution_count": 32,
   "id": "f558b1b0",
   "metadata": {},
   "outputs": [
    {
     "name": "stdout",
     "output_type": "stream",
     "text": [
      "40\n"
     ]
    }
   ],
   "source": [
    "sunny(10,20,30,40)"
   ]
  },
  {
   "cell_type": "code",
   "execution_count": 33,
   "id": "b7fb20fa",
   "metadata": {},
   "outputs": [],
   "source": [
    "def maximum(*sunny):\n",
    "    print(max(sunny))"
   ]
  },
  {
   "cell_type": "code",
   "execution_count": 35,
   "id": "8749be7a",
   "metadata": {},
   "outputs": [
    {
     "name": "stdout",
     "output_type": "stream",
     "text": [
      "75\n"
     ]
    }
   ],
   "source": [
    "maximum(10,40,70,60,40,12,2,12,75,4)"
   ]
  },
  {
   "cell_type": "code",
   "execution_count": 39,
   "id": "a9d4919d",
   "metadata": {},
   "outputs": [],
   "source": [
    "r = range(10,50,5)"
   ]
  },
  {
   "cell_type": "code",
   "execution_count": 40,
   "id": "c399f111",
   "metadata": {},
   "outputs": [
    {
     "data": {
      "text/plain": [
       "range(10, 50, 5)"
      ]
     },
     "execution_count": 40,
     "metadata": {},
     "output_type": "execute_result"
    }
   ],
   "source": [
    "r"
   ]
  },
  {
   "cell_type": "code",
   "execution_count": 41,
   "id": "55c64bb0",
   "metadata": {},
   "outputs": [
    {
     "data": {
      "text/plain": [
       "[10, 15, 20, 25, 30, 35, 40, 45]"
      ]
     },
     "execution_count": 41,
     "metadata": {},
     "output_type": "execute_result"
    }
   ],
   "source": [
    "list(r)"
   ]
  },
  {
   "cell_type": "markdown",
   "id": "1b6b6882",
   "metadata": {},
   "source": [
    "#  For Loop"
   ]
  },
  {
   "cell_type": "code",
   "execution_count": 43,
   "id": "ad4271b7",
   "metadata": {},
   "outputs": [
    {
     "name": "stdout",
     "output_type": "stream",
     "text": [
      "10\n",
      "16\n",
      "22\n",
      "28\n",
      "34\n",
      "40\n",
      "46\n"
     ]
    }
   ],
   "source": [
    "for i in range(10,50,6):\n",
    "    print(i)"
   ]
  },
  {
   "cell_type": "code",
   "execution_count": 44,
   "id": "bb563d06",
   "metadata": {},
   "outputs": [],
   "source": [
    "names = ['sunny', 'Raj', 'Anand','Aarvi']"
   ]
  },
  {
   "cell_type": "code",
   "execution_count": 47,
   "id": "f5036098",
   "metadata": {},
   "outputs": [
    {
     "name": "stdout",
     "output_type": "stream",
     "text": [
      "www.sunny.com\n",
      "www.Raj.com\n",
      "www.Anand.com\n",
      "www.Aarvi.com\n"
     ]
    }
   ],
   "source": [
    "for name in names:\n",
    "    print('www.'+name+'.com')"
   ]
  },
  {
   "cell_type": "markdown",
   "id": "241929ed",
   "metadata": {},
   "source": [
    "###  Print square of all the numbers with in range od 1-20"
   ]
  },
  {
   "cell_type": "code",
   "execution_count": 48,
   "id": "66ea88d1",
   "metadata": {},
   "outputs": [
    {
     "name": "stdout",
     "output_type": "stream",
     "text": [
      "1\n",
      "4\n",
      "9\n",
      "16\n",
      "25\n",
      "36\n",
      "49\n",
      "64\n",
      "81\n",
      "100\n",
      "121\n",
      "144\n",
      "169\n",
      "196\n",
      "225\n",
      "256\n",
      "289\n",
      "324\n",
      "361\n"
     ]
    }
   ],
   "source": [
    "for i in range(1,20):\n",
    "    print(i**2)"
   ]
  },
  {
   "cell_type": "markdown",
   "id": "241358f0",
   "metadata": {},
   "source": [
    "###  Store all the even and odd numbers in a seperate list"
   ]
  },
  {
   "cell_type": "code",
   "execution_count": 63,
   "id": "9af452dc",
   "metadata": {},
   "outputs": [
    {
     "data": {
      "text/html": [
       "<div>\n",
       "<style scoped>\n",
       "    .dataframe tbody tr th:only-of-type {\n",
       "        vertical-align: middle;\n",
       "    }\n",
       "\n",
       "    .dataframe tbody tr th {\n",
       "        vertical-align: top;\n",
       "    }\n",
       "\n",
       "    .dataframe thead th {\n",
       "        text-align: right;\n",
       "    }\n",
       "</style>\n",
       "<table border=\"1\" class=\"dataframe\">\n",
       "  <thead>\n",
       "    <tr style=\"text-align: right;\">\n",
       "      <th></th>\n",
       "      <th>EVEN</th>\n",
       "      <th>ODD</th>\n",
       "    </tr>\n",
       "  </thead>\n",
       "  <tbody>\n",
       "    <tr>\n",
       "      <th>0</th>\n",
       "      <td>2</td>\n",
       "      <td>1</td>\n",
       "    </tr>\n",
       "    <tr>\n",
       "      <th>1</th>\n",
       "      <td>4</td>\n",
       "      <td>3</td>\n",
       "    </tr>\n",
       "    <tr>\n",
       "      <th>2</th>\n",
       "      <td>6</td>\n",
       "      <td>5</td>\n",
       "    </tr>\n",
       "    <tr>\n",
       "      <th>3</th>\n",
       "      <td>8</td>\n",
       "      <td>7</td>\n",
       "    </tr>\n",
       "    <tr>\n",
       "      <th>4</th>\n",
       "      <td>10</td>\n",
       "      <td>9</td>\n",
       "    </tr>\n",
       "    <tr>\n",
       "      <th>5</th>\n",
       "      <td>12</td>\n",
       "      <td>11</td>\n",
       "    </tr>\n",
       "    <tr>\n",
       "      <th>6</th>\n",
       "      <td>14</td>\n",
       "      <td>13</td>\n",
       "    </tr>\n",
       "    <tr>\n",
       "      <th>7</th>\n",
       "      <td>16</td>\n",
       "      <td>15</td>\n",
       "    </tr>\n",
       "    <tr>\n",
       "      <th>8</th>\n",
       "      <td>18</td>\n",
       "      <td>17</td>\n",
       "    </tr>\n",
       "    <tr>\n",
       "      <th>9</th>\n",
       "      <td>20</td>\n",
       "      <td>19</td>\n",
       "    </tr>\n",
       "    <tr>\n",
       "      <th>10</th>\n",
       "      <td>22</td>\n",
       "      <td>21</td>\n",
       "    </tr>\n",
       "    <tr>\n",
       "      <th>11</th>\n",
       "      <td>24</td>\n",
       "      <td>23</td>\n",
       "    </tr>\n",
       "    <tr>\n",
       "      <th>12</th>\n",
       "      <td>26</td>\n",
       "      <td>25</td>\n",
       "    </tr>\n",
       "    <tr>\n",
       "      <th>13</th>\n",
       "      <td>28</td>\n",
       "      <td>27</td>\n",
       "    </tr>\n",
       "    <tr>\n",
       "      <th>14</th>\n",
       "      <td>30</td>\n",
       "      <td>29</td>\n",
       "    </tr>\n",
       "    <tr>\n",
       "      <th>15</th>\n",
       "      <td>32</td>\n",
       "      <td>31</td>\n",
       "    </tr>\n",
       "    <tr>\n",
       "      <th>16</th>\n",
       "      <td>34</td>\n",
       "      <td>33</td>\n",
       "    </tr>\n",
       "    <tr>\n",
       "      <th>17</th>\n",
       "      <td>36</td>\n",
       "      <td>35</td>\n",
       "    </tr>\n",
       "    <tr>\n",
       "      <th>18</th>\n",
       "      <td>38</td>\n",
       "      <td>37</td>\n",
       "    </tr>\n",
       "    <tr>\n",
       "      <th>19</th>\n",
       "      <td>40</td>\n",
       "      <td>39</td>\n",
       "    </tr>\n",
       "    <tr>\n",
       "      <th>20</th>\n",
       "      <td>42</td>\n",
       "      <td>41</td>\n",
       "    </tr>\n",
       "    <tr>\n",
       "      <th>21</th>\n",
       "      <td>44</td>\n",
       "      <td>43</td>\n",
       "    </tr>\n",
       "    <tr>\n",
       "      <th>22</th>\n",
       "      <td>46</td>\n",
       "      <td>45</td>\n",
       "    </tr>\n",
       "    <tr>\n",
       "      <th>23</th>\n",
       "      <td>48</td>\n",
       "      <td>47</td>\n",
       "    </tr>\n",
       "    <tr>\n",
       "      <th>24</th>\n",
       "      <td>50</td>\n",
       "      <td>49</td>\n",
       "    </tr>\n",
       "  </tbody>\n",
       "</table>\n",
       "</div>"
      ],
      "text/plain": [
       "    EVEN  ODD\n",
       "0      2    1\n",
       "1      4    3\n",
       "2      6    5\n",
       "3      8    7\n",
       "4     10    9\n",
       "5     12   11\n",
       "6     14   13\n",
       "7     16   15\n",
       "8     18   17\n",
       "9     20   19\n",
       "10    22   21\n",
       "11    24   23\n",
       "12    26   25\n",
       "13    28   27\n",
       "14    30   29\n",
       "15    32   31\n",
       "16    34   33\n",
       "17    36   35\n",
       "18    38   37\n",
       "19    40   39\n",
       "20    42   41\n",
       "21    44   43\n",
       "22    46   45\n",
       "23    48   47\n",
       "24    50   49"
      ]
     },
     "execution_count": 63,
     "metadata": {},
     "output_type": "execute_result"
    }
   ],
   "source": [
    "import pandas as pd\n",
    "even =[]\n",
    "odd  =[]\n",
    "\n",
    "for i in range(1,51):\n",
    "    if i%2==0:\n",
    "        even.append(i)\n",
    "    else:\n",
    "        odd.append(i)\n",
    "pd.DataFrame({'EVEN':even,'ODD':odd})"
   ]
  },
  {
   "cell_type": "code",
   "execution_count": 66,
   "id": "6eb67cec",
   "metadata": {},
   "outputs": [],
   "source": [
    "import pandas as pd\n",
    "even = []\n",
    "odd = []\n",
    "\n",
    "for i in range(1, 51):\n",
    "    if i % 2 == 0:\n",
    "        even.append(i)\n",
    "    else:\n",
    "        odd.append(i)"
   ]
  },
  {
   "cell_type": "code",
   "execution_count": 67,
   "id": "84b40615",
   "metadata": {},
   "outputs": [
    {
     "data": {
      "text/plain": [
       "[2,\n",
       " 4,\n",
       " 6,\n",
       " 8,\n",
       " 10,\n",
       " 12,\n",
       " 14,\n",
       " 16,\n",
       " 18,\n",
       " 20,\n",
       " 22,\n",
       " 24,\n",
       " 26,\n",
       " 28,\n",
       " 30,\n",
       " 32,\n",
       " 34,\n",
       " 36,\n",
       " 38,\n",
       " 40,\n",
       " 42,\n",
       " 44,\n",
       " 46,\n",
       " 48,\n",
       " 50]"
      ]
     },
     "execution_count": 67,
     "metadata": {},
     "output_type": "execute_result"
    }
   ],
   "source": [
    "even"
   ]
  },
  {
   "cell_type": "code",
   "execution_count": 68,
   "id": "612f4aea",
   "metadata": {},
   "outputs": [],
   "source": [
    "even = []\n",
    "odd = []\n",
    "\n",
    "for i in range(1,21):\n",
    "    if i%2==0:\n",
    "        even.append(i)\n",
    "    else:\n",
    "        odd.append(i)"
   ]
  },
  {
   "cell_type": "code",
   "execution_count": 69,
   "id": "651292b7",
   "metadata": {},
   "outputs": [
    {
     "data": {
      "text/plain": [
       "[2, 4, 6, 8, 10, 12, 14, 16, 18, 20]"
      ]
     },
     "execution_count": 69,
     "metadata": {},
     "output_type": "execute_result"
    }
   ],
   "source": [
    "even"
   ]
  },
  {
   "cell_type": "code",
   "execution_count": 75,
   "id": "3c92ec17",
   "metadata": {},
   "outputs": [
    {
     "name": "stdout",
     "output_type": "stream",
     "text": [
      "['sunny']\n"
     ]
    }
   ],
   "source": [
    "names = ['sunny', 'Raj', 'Anand','Aarvi']\n",
    "s = []\n",
    "for i in names:\n",
    "    if i.startswith('s'):\n",
    "        s.append(i)\n",
    "\n",
    "print(s)"
   ]
  },
  {
   "cell_type": "code",
   "execution_count": 79,
   "id": "5e214971",
   "metadata": {},
   "outputs": [
    {
     "name": "stdout",
     "output_type": "stream",
     "text": [
      "[10, 15, 20, 25, 30, 35, 40]\n"
     ]
    }
   ],
   "source": [
    "sunny = [5,10,15,20,25,30,35]\n",
    "\n",
    "output = []\n",
    "for i in sunny:\n",
    "    output.append(i+5)\n",
    "print(output)\n",
    " \n"
   ]
  },
  {
   "cell_type": "code",
   "execution_count": 88,
   "id": "93048e8f",
   "metadata": {},
   "outputs": [
    {
     "name": "stdout",
     "output_type": "stream",
     "text": [
      "[85, 89, 96, 87, 89]\n"
     ]
    }
   ],
   "source": [
    "# Create a list of marks and print only marks>80\n",
    "\n",
    "marks = [10,50,85,74,89,96,87,89,20]\n",
    "\n",
    "        \n",
    "s = []\n",
    "\n",
    "for p in marks:\n",
    "    if p >= 80:\n",
    "        s.append(p)\n",
    "        \n",
    "print(s)"
   ]
  },
  {
   "cell_type": "markdown",
   "id": "2492aebc",
   "metadata": {},
   "source": [
    "# Duplicate"
   ]
  },
  {
   "cell_type": "code",
   "execution_count": 89,
   "id": "2b6b4540",
   "metadata": {},
   "outputs": [],
   "source": [
    "lst = [1,2,4,2,5,1,2,3,6,5,1,2]\n",
    "\n",
    "output= []\n",
    "for i in lst:\n",
    "    if lst.count(i)>1 and i not in output:\n",
    "        output.append(i)"
   ]
  },
  {
   "cell_type": "code",
   "execution_count": 90,
   "id": "df167289",
   "metadata": {},
   "outputs": [
    {
     "name": "stdout",
     "output_type": "stream",
     "text": [
      "[1, 2, 5]\n"
     ]
    }
   ],
   "source": [
    "print(output)"
   ]
  },
  {
   "cell_type": "code",
   "execution_count": 1,
   "id": "bab1103b",
   "metadata": {},
   "outputs": [
    {
     "name": "stdout",
     "output_type": "stream",
     "text": [
      "[1, 2, 5]\n"
     ]
    }
   ],
   "source": [
    "# With out using count function\n",
    "\n",
    "lst = [1,2,4,2,5,1,2,3,6,5,1,2]\n",
    "d =[]\n",
    " \n",
    "for i in range(len(lst)):\n",
    "    for j in range(i+1, len(lst)):\n",
    "        if lst[i]==lst[j] and lst[i] not in d:\n",
    "            d.append(lst[i])\n",
    "\n",
    "print(d)"
   ]
  },
  {
   "cell_type": "code",
   "execution_count": 95,
   "id": "0ebdf525",
   "metadata": {},
   "outputs": [
    {
     "name": "stdout",
     "output_type": "stream",
     "text": [
      "[1, 2]\n"
     ]
    }
   ],
   "source": [
    "sunny = [1,2,3,1,2]\n",
    "p= []\n",
    "for i in lst:\n",
    "    if sunny.count(i)>1 and i not in p:\n",
    "        p.append(i)\n",
    "        \n",
    "print(p)"
   ]
  },
  {
   "cell_type": "code",
   "execution_count": 99,
   "id": "91a98ebe",
   "metadata": {},
   "outputs": [
    {
     "name": "stdout",
     "output_type": "stream",
     "text": [
      "101\n",
      "103\n",
      "107\n",
      "109\n",
      "113\n",
      "127\n",
      "131\n",
      "137\n",
      "139\n",
      "149\n",
      "151\n",
      "157\n",
      "163\n",
      "167\n",
      "173\n",
      "179\n",
      "181\n",
      "191\n",
      "193\n",
      "197\n",
      "199\n"
     ]
    }
   ],
   "source": [
    "for num in range(100,200):\n",
    "    if all(num % i != 0 for i in range(2, num)):\n",
    "        print(num)"
   ]
  },
  {
   "cell_type": "markdown",
   "id": "e33df602",
   "metadata": {},
   "source": [
    "###  Write a sort function to sort the element in a list"
   ]
  },
  {
   "cell_type": "code",
   "execution_count": 103,
   "id": "6b3d6808",
   "metadata": {},
   "outputs": [
    {
     "name": "stdout",
     "output_type": "stream",
     "text": [
      "[12, 9, 7, 5, 4, 2, 1]\n"
     ]
    }
   ],
   "source": [
    "num = [1,5,4,2,9,7,12]\n",
    "\n",
    "num.sort(reverse=True)\n",
    "\n",
    "print(num)"
   ]
  },
  {
   "cell_type": "code",
   "execution_count": 107,
   "id": "cc20760b",
   "metadata": {},
   "outputs": [
    {
     "data": {
      "text/plain": [
       "[6, 5, 4, 3, 2, 1]"
      ]
     },
     "execution_count": 107,
     "metadata": {},
     "output_type": "execute_result"
    }
   ],
   "source": [
    "lst = [1,2,3,4,5,6]\n",
    "\n",
    "def sunny(s):\n",
    "    return s[::-1]\n",
    "\n",
    "sunny(lst)"
   ]
  },
  {
   "cell_type": "code",
   "execution_count": 109,
   "id": "3d201a59",
   "metadata": {},
   "outputs": [
    {
     "name": "stdout",
     "output_type": "stream",
     "text": [
      "[10, 5, 8, 7, 4, 2, 1]\n"
     ]
    }
   ],
   "source": [
    "# Its just a reverse order not descending\n",
    "\n",
    "lst = [1,2,4,7,8,5,10]\n",
    "\n",
    "reverse = lst[::-1]\n",
    "print(reverse)\n"
   ]
  },
  {
   "cell_type": "code",
   "execution_count": null,
   "id": "16985044",
   "metadata": {},
   "outputs": [],
   "source": []
  }
 ],
 "metadata": {
  "kernelspec": {
   "display_name": "Python 3 (ipykernel)",
   "language": "python",
   "name": "python3"
  },
  "language_info": {
   "codemirror_mode": {
    "name": "ipython",
    "version": 3
   },
   "file_extension": ".py",
   "mimetype": "text/x-python",
   "name": "python",
   "nbconvert_exporter": "python",
   "pygments_lexer": "ipython3",
   "version": "3.9.13"
  }
 },
 "nbformat": 4,
 "nbformat_minor": 5
}
